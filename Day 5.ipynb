{
 "cells": [
  {
   "cell_type": "markdown",
   "id": "55add556-423f-4016-b8d0-e1d60fcbb6dd",
   "metadata": {},
   "source": [
    "# OOP\n",
    " A class for a bank account with methods to\n",
    " deposit, withdraw, and check balance"
   ]
  },
  {
   "cell_type": "code",
   "execution_count": 60,
   "id": "9d1e74aa-41e7-4dcd-9874-fb49289d64e2",
   "metadata": {},
   "outputs": [],
   "source": [
    "class Account():\n",
    "    account_id = 0\n",
    "    \n",
    "    def __init__(self, name,balance=0):\n",
    "        Account.account_id += 1\n",
    "        self.name = name\n",
    "        self.__balance = balance\n",
    "        self.__my_id = Account.account_id\n",
    "\n",
    "        self.password = input('Please set up a password: ')\n",
    "\n",
    "        print(f'Welcome {self.name}, your Account ID is: {self._Account__my_id}. Your current balance is : ${self._Account__balance}')\n",
    "\n",
    "    def check_pass(self):\n",
    "        check = ''\n",
    "        while check != self.password:\n",
    "            check = input(\"Please enter your password: \")\n",
    "            if check != self.password:\n",
    "                print('Wrong password. Try again')\n",
    "\n",
    "    def deposit(self,amount):\n",
    "        self.check_pass()\n",
    "        self._Account__balance += amount\n",
    "        print(f'Your new balance is ${self._Account__balance}')\n",
    "\n",
    "    def withdraw(self,amount):\n",
    "        self.check_pass()\n",
    "        \n",
    "        if amount > self._Account__balance:\n",
    "            print('Your balance is low')\n",
    "        else:\n",
    "            self._Account__balance -= amount\n",
    "            print(f'Your new balance is ${self._Account__balance}')\n",
    "            \n",
    "    def check(self):\n",
    "        self.check_pass()\n",
    "        print(f'Your current balance is: ${self._Account__balance}')\n",
    "        "
   ]
  },
  {
   "cell_type": "code",
   "execution_count": 56,
   "id": "1094e3d5-dd74-4bc2-b8b5-bf8dfd5119ff",
   "metadata": {},
   "outputs": [
    {
     "name": "stdin",
     "output_type": "stream",
     "text": [
      "Please set up a password:  1234\n"
     ]
    },
    {
     "name": "stdout",
     "output_type": "stream",
     "text": [
      "Welcome Abdullah, your Account ID is: 1. Your current balance is : $0\n"
     ]
    }
   ],
   "source": [
    "acc1 = Account('Abdullah')"
   ]
  },
  {
   "cell_type": "code",
   "execution_count": 57,
   "id": "3ebc11fd-ccd7-4675-84f6-187c4c694510",
   "metadata": {},
   "outputs": [
    {
     "name": "stdin",
     "output_type": "stream",
     "text": [
      "Please enter your password:  123\n"
     ]
    },
    {
     "name": "stdout",
     "output_type": "stream",
     "text": [
      "Wrong password. Try again\n"
     ]
    },
    {
     "name": "stdin",
     "output_type": "stream",
     "text": [
      "Please enter your password:  1234\n"
     ]
    },
    {
     "name": "stdout",
     "output_type": "stream",
     "text": [
      "Your current balance is: $0\n"
     ]
    }
   ],
   "source": [
    "acc1.check()"
   ]
  },
  {
   "cell_type": "code",
   "execution_count": 59,
   "id": "800cf9c7-2026-4251-a7af-8bfc4f6ed8d5",
   "metadata": {},
   "outputs": [
    {
     "name": "stdin",
     "output_type": "stream",
     "text": [
      "Please set up a password:  121\n"
     ]
    },
    {
     "name": "stdout",
     "output_type": "stream",
     "text": [
      "Welcome A, your Account ID is: 2. Your current balance is : $120\n"
     ]
    }
   ],
   "source": [
    "acc2 = Account('A',120)"
   ]
  },
  {
   "cell_type": "code",
   "execution_count": null,
   "id": "1f3b68aa-165f-4bb8-b88b-dbd83b3b4fb9",
   "metadata": {},
   "outputs": [],
   "source": []
  }
 ],
 "metadata": {
  "kernelspec": {
   "display_name": "Python 3 (ipykernel)",
   "language": "python",
   "name": "python3"
  },
  "language_info": {
   "codemirror_mode": {
    "name": "ipython",
    "version": 3
   },
   "file_extension": ".py",
   "mimetype": "text/x-python",
   "name": "python",
   "nbconvert_exporter": "python",
   "pygments_lexer": "ipython3",
   "version": "3.13.5"
  }
 },
 "nbformat": 4,
 "nbformat_minor": 5
}
