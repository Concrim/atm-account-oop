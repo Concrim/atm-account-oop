{
 "cells": [
  {
   "cell_type": "markdown",
   "id": "33ab0d2b-9545-433b-a304-ef8a3cbf3180",
   "metadata": {},
   "source": [
    "# Inheritance\n",
    "Implement inheritance for different types of accounts (e.g., savings, checking) in the above bank account task."
   ]
  },
  {
   "cell_type": "code",
   "execution_count": 72,
   "id": "519acc6b-7a53-40e2-bea7-6e76b592534e",
   "metadata": {},
   "outputs": [],
   "source": [
    "class Account():\n",
    "    account_id = 0\n",
    "    \n",
    "    def __init__(self, name,balance=0):\n",
    "        Account.account_id += 1\n",
    "        self.name = name\n",
    "        self.__balance = balance\n",
    "        self.__my_id = Account.account_id\n",
    "\n",
    "        self.__password = input('Please set up a password: ')\n",
    "\n",
    "        print(f'Welcome {self.name}, your Account ID is: {self._Account__my_id}. Your current balance is : ${self._Account__balance}')\n",
    "\n",
    "    def check_pass(self):\n",
    "        check = ''\n",
    "        while check != self._Account__password:\n",
    "            check = input(\"Please enter your password: \")\n",
    "            if check != self._Account__password:\n",
    "                print('Wrong password. Try again')\n",
    "\n",
    "    def deposit(self,amount):\n",
    "        # self.check_pass()\n",
    "        self._Account__balance += amount\n",
    "        print(f'Your new balance is ${self._Account__balance}')\n",
    "\n",
    "    def withdraw(self,amount):\n",
    "        self.check_pass()\n",
    "        \n",
    "        if amount > self._Account__balance:\n",
    "            print('Your balance is low')\n",
    "        else:\n",
    "            self._Account__balance -= amount\n",
    "            print(f'Your new balance is ${self._Account__balance}')\n",
    "            \n",
    "    def check(self):\n",
    "        self.check_pass()\n",
    "        print(f'Your current balance is: ${self._Account__balance}')\n",
    "        "
   ]
  },
  {
   "cell_type": "code",
   "execution_count": 170,
   "id": "fd845d1a-eefe-4d5d-9d23-2a1459dccac3",
   "metadata": {},
   "outputs": [],
   "source": [
    "class SavingAccount(Account):\n",
    "    def __init__(self,name,balance=0):\n",
    "        super().__init__(name,balance)\n",
    "        print(f'''\n",
    "        This is a Savings Account.\n",
    "        You can withdraw your savings at the interest rate of 3% per annum\n",
    "        ''')\n",
    "        self.__savings = 0\n",
    "        self.__time = 0\n",
    "        self.i = 0\n",
    "\n",
    "    def add_to_savings(self):\n",
    "        self.check_pass()\n",
    "        save = int(input('Please enter the amount you want to move into saving: '))\n",
    "        if save > self._Account__balance:\n",
    "            print('Your balance is insufficient.')\n",
    "        else:\n",
    "            self._Account__balance -= save\n",
    "            self.__savings += save\n",
    "\n",
    "    def check_savings(self):\n",
    "        self.check_pass()\n",
    "        print(f'Your current savings are: ${self.__savings + self.i}')\n",
    "\n",
    "    def interest(self):\n",
    "        self.i = (self.__savings * self.__time * 3/100)\n",
    "\n",
    "    def inc_time(self):\n",
    "        # normally this would be automated but we'll do this manually\n",
    "        print(\"ONLY ALLOWED FOR BANK OFFICIALS\")\n",
    "        time = int(input(\"Enter the time passed (in years) since the savings account was opened: \"))\n",
    "        self.__time += time\n",
    "        self.interest()\n",
    "\n",
    "    def withdraw_savings(self):\n",
    "        print('Withdrawing funds in savings account.')\n",
    "        print(f'Withdrawn amount: ${self.__savings + self.i}')\n",
    "        self.__savings = 0\n",
    "        self.i -= 0\n",
    "        \n",
    "\n",
    "    "
   ]
  },
  {
   "cell_type": "code",
   "execution_count": 171,
   "id": "108352fa-6b60-46ea-839f-74f4a6083329",
   "metadata": {},
   "outputs": [
    {
     "name": "stdin",
     "output_type": "stream",
     "text": [
      "Please set up a password:  1234\n"
     ]
    },
    {
     "name": "stdout",
     "output_type": "stream",
     "text": [
      "Welcome Adam, your Account ID is: 18. Your current balance is : $0\n",
      "\n",
      "        This is a Savings Account.\n",
      "        You can withdraw your savings at the interest rate of 3% per annum\n",
      "        \n"
     ]
    }
   ],
   "source": [
    "acc1 = SavingAccount('Adam')"
   ]
  },
  {
   "cell_type": "code",
   "execution_count": 172,
   "id": "72db8a9a-b9c4-4057-abe8-b535f17537a3",
   "metadata": {},
   "outputs": [
    {
     "name": "stdout",
     "output_type": "stream",
     "text": [
      "Your new balance is $10000\n"
     ]
    }
   ],
   "source": [
    "acc1.deposit(10000)"
   ]
  },
  {
   "cell_type": "code",
   "execution_count": 173,
   "id": "026b1045-11f6-4ee0-977d-a09ae14e29c3",
   "metadata": {},
   "outputs": [
    {
     "name": "stdin",
     "output_type": "stream",
     "text": [
      "Please enter your password:  1234\n",
      "Please enter the amount you want to move into saving:  2000\n"
     ]
    }
   ],
   "source": [
    "acc1.add_to_savings()"
   ]
  },
  {
   "cell_type": "code",
   "execution_count": 174,
   "id": "94c658e8-2909-4beb-97bd-dbd6efb2b7cc",
   "metadata": {},
   "outputs": [
    {
     "name": "stdin",
     "output_type": "stream",
     "text": [
      "Please enter your password:  1234\n"
     ]
    },
    {
     "name": "stdout",
     "output_type": "stream",
     "text": [
      "Your current savings are: $2000\n"
     ]
    }
   ],
   "source": [
    "acc1.check_savings()"
   ]
  },
  {
   "cell_type": "code",
   "execution_count": 175,
   "id": "536ff6a5-9726-4dda-a779-5f2b70ab1e79",
   "metadata": {},
   "outputs": [
    {
     "name": "stdout",
     "output_type": "stream",
     "text": [
      "ONLY ALLOWED FOR BANK OFFICIALS\n"
     ]
    },
    {
     "name": "stdin",
     "output_type": "stream",
     "text": [
      "Enter the time passed (in years) since the savings account was opened:  3\n"
     ]
    }
   ],
   "source": [
    "acc1.inc_time()"
   ]
  },
  {
   "cell_type": "code",
   "execution_count": 176,
   "id": "2814d43e-e272-4e09-825b-fef7bf580c94",
   "metadata": {},
   "outputs": [
    {
     "name": "stdin",
     "output_type": "stream",
     "text": [
      "Please enter your password:  1234\n"
     ]
    },
    {
     "name": "stdout",
     "output_type": "stream",
     "text": [
      "Your current savings are: $2180.0\n"
     ]
    }
   ],
   "source": [
    "acc1.check_savings()"
   ]
  },
  {
   "cell_type": "code",
   "execution_count": 177,
   "id": "e842f9f5-1122-4437-ac71-6504b1a0bbe3",
   "metadata": {},
   "outputs": [
    {
     "name": "stdin",
     "output_type": "stream",
     "text": [
      "Please enter your password:  1234\n"
     ]
    },
    {
     "name": "stdout",
     "output_type": "stream",
     "text": [
      "Your current savings are: $2180.0\n"
     ]
    }
   ],
   "source": [
    "acc1.check_savings()"
   ]
  },
  {
   "cell_type": "code",
   "execution_count": 182,
   "id": "1779f49d-1eea-4654-9e52-b52df8a1a0de",
   "metadata": {},
   "outputs": [
    {
     "name": "stdout",
     "output_type": "stream",
     "text": [
      "ONLY ALLOWED FOR BANK OFFICIALS\n"
     ]
    },
    {
     "name": "stdin",
     "output_type": "stream",
     "text": [
      "Enter the time passed (in years) since the savings account was opened:  -1\n"
     ]
    }
   ],
   "source": [
    "acc1.inc_time()"
   ]
  },
  {
   "cell_type": "code",
   "execution_count": 184,
   "id": "790d552c-267b-4b89-84c5-7c7583377dc2",
   "metadata": {},
   "outputs": [
    {
     "name": "stdin",
     "output_type": "stream",
     "text": [
      "Please enter your password:  1234\n"
     ]
    },
    {
     "name": "stdout",
     "output_type": "stream",
     "text": [
      "Your current savings are: $2180.0\n"
     ]
    }
   ],
   "source": [
    "acc1.check_savings()"
   ]
  },
  {
   "cell_type": "code",
   "execution_count": null,
   "id": "cc3e9b50-7a70-4348-aaef-b4704fb94491",
   "metadata": {},
   "outputs": [],
   "source": []
  }
 ],
 "metadata": {
  "kernelspec": {
   "display_name": "Python 3 (ipykernel)",
   "language": "python",
   "name": "python3"
  },
  "language_info": {
   "codemirror_mode": {
    "name": "ipython",
    "version": 3
   },
   "file_extension": ".py",
   "mimetype": "text/x-python",
   "name": "python",
   "nbconvert_exporter": "python",
   "pygments_lexer": "ipython3",
   "version": "3.13.5"
  }
 },
 "nbformat": 4,
 "nbformat_minor": 5
}
